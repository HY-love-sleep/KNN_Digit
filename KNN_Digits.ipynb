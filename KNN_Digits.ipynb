{
 "cells": [
  {
   "cell_type": "code",
   "execution_count": 11,
   "id": "b69c8198",
   "metadata": {},
   "outputs": [],
   "source": [
    "import os\n",
    "import numpy as np\n",
    "import operator\n",
    "from sklearn.neighbors import KNeighborsClassifier as kNN\n",
    "import time"
   ]
  },
  {
   "cell_type": "code",
   "execution_count": 12,
   "id": "63d6e4d2",
   "metadata": {},
   "outputs": [],
   "source": [
    "training_dir = 'data/knn-digits/training_digits'\n",
    "test_dir = 'data/knn-digits/test_digits'\n",
    "k_global = 3"
   ]
  },
  {
   "cell_type": "code",
   "execution_count": 13,
   "id": "e273944d",
   "metadata": {},
   "outputs": [],
   "source": [
    "# 将32*32的数据转为1*1024的数据\n",
    "def img2vector(filename):\n",
    "    return_vector = np.zeros((1, 1024))\n",
    "    f = open(filename)\n",
    "    for i in range(32):\n",
    "        line = f.readline()\n",
    "        for j in range(32):\n",
    "            return_vector[0, 32 * i + j] = int(line[j])\n",
    "    return return_vector\n",
    "\n",
    "\n",
    "def load_training_data():\n",
    "    training_label = []\n",
    "    training_file_list = os.listdir(training_dir)\n",
    "    training_size = len(training_file_list)\n",
    "    training_data = np.zeros((training_size, 1024))\n",
    "    for i in range(training_size):\n",
    "        filename = training_file_list[i]\n",
    "        label = int(filename.split('_')[0])\n",
    "        training_label.append(label)\n",
    "        training_data[i, :] = img2vector(training_dir + '/' + filename)\n",
    "    return training_data, training_label\n",
    "\n",
    "\n",
    "def load_test_data():\n",
    "    test_file_list = os.listdir(test_dir)\n",
    "    test_size = len(test_file_list)\n",
    "    for i in range(test_size):\n",
    "        filename = test_file_list[i]\n",
    "        label = int(filename.split('_')[0])\n",
    "        test_data = img2vector(test_dir + '/' + filename)\n",
    "        yield test_data, label"
   ]
  },
  {
   "cell_type": "code",
   "execution_count": 4,
   "id": "df94b9e0",
   "metadata": {},
   "outputs": [],
   "source": [
    "# 对单条数据进行分类\n",
    "def classify0(in_data, data_set, labels, k):\n",
    "    data_size = data_set.shape[0]\n",
    "    diff_mat = np.tile(in_data, (data_size, 1)) - data_set\n",
    "    distances = (diff_mat ** 2).sum(axis=1) ** 0.5\n",
    "    argsort_distances = distances.argsort()\n",
    "    class_count = {}\n",
    "    for i in range(k):\n",
    "        label = labels[argsort_distances[i]]\n",
    "        class_count[label] = class_count.get(label, 0) + 1\n",
    "    sorted_class_count = sorted(class_count.items(), key=operator.itemgetter(1), reverse=True)\n",
    "    return sorted_class_count[0][0]\n",
    "\n",
    "\n",
    "# knn的总体流程\n",
    "def knn():\n",
    "    error_count = 0\n",
    "    correct_count = 0\n",
    "    training_data, training_label = load_training_data()\n",
    "    for test_data, test_label in load_test_data():\n",
    "        pred_label = classify0(test_data, training_data, training_label, k_global)\n",
    "        if pred_label == test_label:\n",
    "            correct_count += 1\n",
    "        else:\n",
    "            error_count += 1\n",
    "    num_test = error_count + correct_count\n",
    "    acc = correct_count / (correct_count + error_count)\n",
    "    print('test number: %d, failure number: %d, accuracy: %.6f' % (num_test, error_count, acc))"
   ]
  },
  {
   "cell_type": "code",
   "execution_count": 5,
   "id": "be217f2a",
   "metadata": {},
   "outputs": [
    {
     "name": "stdout",
     "output_type": "stream",
     "text": [
      "use knn implementing from scratch:\n",
      "test number: 946, failure number: 11, accuracy: 0.988372\n",
      "took 6.529421.4 s\n"
     ]
    }
   ],
   "source": [
    "time_begin = time.time()\n",
    "print('use knn implementing from scratch:')\n",
    "knn()\n",
    "time_end = time.time()\n",
    "print('took %f.4 s' % (time_end - time_begin))"
   ]
  },
  {
   "cell_type": "code",
   "execution_count": 6,
   "id": "f16f1488",
   "metadata": {},
   "outputs": [],
   "source": [
    "def knn_sklearn(algorithm):\n",
    "    error_count = 0\n",
    "    correct_count = 0\n",
    "    training_data, training_label = load_training_data()\n",
    "    classifier = kNN(n_neighbors=k_global, algorithm=algorithm)\n",
    "    classifier.fit(training_data, training_label)\n",
    "    for test_data, test_label in load_test_data():\n",
    "        pred_label = classifier.predict(test_data)\n",
    "        if pred_label == test_label:\n",
    "            correct_count += 1\n",
    "        else:\n",
    "            error_count += 1\n",
    "    num_test = error_count + correct_count\n",
    "    acc = correct_count / (correct_count + error_count)\n",
    "    print('test number: %d, failure number: %d, accuracy: %.6f' % (num_test, error_count, acc))"
   ]
  },
  {
   "cell_type": "code",
   "execution_count": 7,
   "id": "da37346e",
   "metadata": {},
   "outputs": [
    {
     "name": "stdout",
     "output_type": "stream",
     "text": [
      "use knn from sklearn:\n",
      "test number: 946, failure number: 10, accuracy: 0.989429\n",
      "took 1.637852.4 s\n"
     ]
    }
   ],
   "source": [
    "time_begin = time.time()\n",
    "print('use knn from sklearn:')\n",
    "knn_sklearn(algorithm='auto')\n",
    "time_end = time.time()\n",
    "print('took %f.4 s' % (time_end - time_begin))"
   ]
  },
  {
   "cell_type": "code",
   "execution_count": 8,
   "id": "86b4312c",
   "metadata": {},
   "outputs": [
    {
     "name": "stdout",
     "output_type": "stream",
     "text": [
      "use knn from sklearn:\n",
      "test number: 946, failure number: 10, accuracy: 0.989429\n",
      "took 1.544849.4 s\n"
     ]
    }
   ],
   "source": [
    "time_begin = time.time()\n",
    "print('use knn from sklearn:')\n",
    "knn_sklearn(algorithm='brute')\n",
    "time_end = time.time()\n",
    "print('took %f.4 s' % (time_end - time_begin))"
   ]
  },
  {
   "cell_type": "code",
   "execution_count": 9,
   "id": "56bedb3d",
   "metadata": {},
   "outputs": [
    {
     "name": "stdout",
     "output_type": "stream",
     "text": [
      "use knn from sklearn:\n",
      "test number: 946, failure number: 10, accuracy: 0.989429\n",
      "took 3.461061.4 s\n"
     ]
    }
   ],
   "source": [
    "time_begin = time.time()\n",
    "print('use knn from sklearn:')\n",
    "knn_sklearn(algorithm='kd_tree')\n",
    "time_end = time.time()\n",
    "print('took %f.4 s' % (time_end - time_begin))"
   ]
  },
  {
   "cell_type": "code",
   "execution_count": 10,
   "id": "6a6c4a1b",
   "metadata": {},
   "outputs": [
    {
     "name": "stdout",
     "output_type": "stream",
     "text": [
      "use knn from sklearn:\n",
      "test number: 946, failure number: 10, accuracy: 0.989429\n",
      "took 3.181452.4 s\n"
     ]
    }
   ],
   "source": [
    "time_begin = time.time()\n",
    "print('use knn from sklearn:')\n",
    "knn_sklearn(algorithm='ball_tree')\n",
    "time_end = time.time()\n",
    "print('took %f.4 s' % (time_end - time_begin))"
   ]
  },
  {
   "cell_type": "code",
   "execution_count": null,
   "id": "5ed540ee",
   "metadata": {},
   "outputs": [],
   "source": []
  },
  {
   "cell_type": "code",
   "execution_count": null,
   "id": "5bd55b43",
   "metadata": {},
   "outputs": [],
   "source": []
  }
 ],
 "metadata": {
  "kernelspec": {
   "display_name": "Python 3 (ipykernel)",
   "language": "python",
   "name": "python3"
  },
  "language_info": {
   "codemirror_mode": {
    "name": "ipython",
    "version": 3
   },
   "file_extension": ".py",
   "mimetype": "text/x-python",
   "name": "python",
   "nbconvert_exporter": "python",
   "pygments_lexer": "ipython3",
   "version": "3.10.12"
  }
 },
 "nbformat": 4,
 "nbformat_minor": 5
}
